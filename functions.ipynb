{
 "cells": [
  {
   "cell_type": "code",
   "execution_count": 1,
   "id": "934f2527",
   "metadata": {},
   "outputs": [],
   "source": [
    "def telco_churn(df):\n",
    "    '''This function takes in the telco dataframe specifically and drops the \n",
    "    listed columns, creates dummy variables for the selected columns, and renames\n",
    "    the dummy variable columns to make them easier to read'''\n",
    "    \n",
    "    drop_cols = ['Unnamed: 0', 'payment_type_id', 'contract_type_id', 'gender', \n",
    "                 'senior_citizen', 'partner', 'dependents', 'phone_service', 'multiple_lines',\n",
    "                 'streaming_tv', 'streaming_movies', 'contract_type', 'payment_type', \n",
    "                 'internet_service_type_id', 'paperless_billing']\n",
    "    \n",
    "    df.drop(columns = drop_cols, inplace = True)\n",
    "    \n",
    "    dummies = pd.get_dummies(df[['online_security','online_backup', 'device_protection', \n",
    "                        'tech_support', 'churn', 'internet_service_type']], drop_first = True)\n",
    "\n",
    "    df = pd.concat([df, dummies], axis = 1)\n",
    "    \n",
    "    df.drop(columns = ['online_security','online_backup', 'device_protection', \n",
    "                        'tech_support', 'churn', 'internet_service_type'], inplace = True)\n",
    "    \n",
    "    df.rename(columns = {'online_security_No internet service': 'online_security_NA', \n",
    "                         'online_backup_No internet service': 'online_backup_NA',\n",
    "                         'device_protection_No internet service': 'device_prot_NA',\n",
    "                         'tech_support_No internet service': 'tech_support_NA', \n",
    "                         'internet_service_type_Fiber optic': 'has_fiber',\n",
    "                         'internet_service_type_None': 'internet_service_type_NA'}, inplace = True)\n",
    "    \n",
    "    return df\n",
    "\n"
   ]
  },
  {
   "cell_type": "code",
   "execution_count": 2,
   "id": "19badba7",
   "metadata": {},
   "outputs": [],
   "source": [
    "def cleanup(df):\n",
    "    '''The purpose of this function is to cleanup the total_charges column by first removing\n",
    "    any whitespace using the strip function, then identifying any non-values (not nulls) and \n",
    "    reassigning the dataframe to the same dataframe without the 11 rows that contain the non-values,\n",
    "    then changing the datatype from an object to a float to make it readable for the model, \n",
    "    and finally making all of the columns lower case for uniformity'''\n",
    "    \n",
    "    df.total_charges = df.total_charges.str.strip()\n",
    "    \n",
    "    df = df[df.total_charges != \"\"]\n",
    "    \n",
    "    df.total_charges = df.total_charges.astype(float)\n",
    "    \n",
    "    df.columns = df.columns.str.lower()\n",
    "    \n",
    "    return df"
   ]
  },
  {
   "cell_type": "code",
   "execution_count": 3,
   "id": "b6ddbf6f",
   "metadata": {},
   "outputs": [],
   "source": [
    "def log_reg(df):\n",
    "    X_train_LR = train.drop(columns=['churn_yes'])\n",
    "    y_train_LR = train.churn_yes\n",
    "\n",
    "    X_validate_LR = validate.drop(columns=['churn_yes'])\n",
    "    y_validate_LR = validate.churn_yes\n",
    "\n",
    "    X_test_LR = test.drop(columns=['churn_yes'])\n",
    "    y_test_LR = test.churn_yes\n",
    "\n",
    "    # from sklearn.linear_model import LogisticRegression\n",
    "    logit = LogisticRegression(C=1, class_weight={0:1, 1:99}, random_state=123, intercept_scaling=1, solver='lbfgs')\n",
    "\n",
    "    logit.fit(X_train_LR, y_train_LR)\n",
    "\n",
    "    print('Coefficient: \\n', logit.coef_)\n",
    "    print('Intercept: \\n', logit.intercept_)\n",
    "\n",
    "    y_pred = logit.predict(X_train_LR)\n",
    "\n",
    "    y_pred_proba = logit.predict_proba(X_train_LR)\n",
    "\n",
    "    print('Accuracy of Logistic Regression classifier on training set: {:.2f}'\n",
    "     .format(logit.score(X_train_LR, y_train_LR)))\n",
    "\n",
    "    print(confusion_matrix(y_train_LR, y_pred))\n",
    "\n",
    "    print(classification_report(y_train, y_pred))\n"
   ]
  },
  {
   "cell_type": "code",
   "execution_count": 4,
   "id": "0f9824d5",
   "metadata": {},
   "outputs": [],
   "source": [
    "def model_report():\n",
    "    data = {'Model': ['Decision Tree', 'Random Forest', 'Logistic Regression'],\n",
    "            'Accuracy': [79, 79, 29],\n",
    "            'Precision': [81, 80, 99]}\n",
    "    return pd.DataFrame(data)"
   ]
  },
  {
   "cell_type": "code",
   "execution_count": 5,
   "id": "5ed1bebb",
   "metadata": {},
   "outputs": [],
   "source": [
    "def get_tree(X_train, X_validate, y_train, y_validate):\n",
    "    '''get decision tree accuracy on train and validate data'''\n",
    "\n",
    "    # create classifier object\n",
    "    clf = DecisionTreeClassifier(max_depth=3, random_state=123)\n",
    "\n",
    "    #fit model on training data\n",
    "    clf = clf.fit(X_train, y_train)\n",
    "\n",
    "    # print result\n",
    "    print(f\"Accuracy of Decision Tree on train data is {clf.score(X_train, y_train)}\")\n",
    "    print(f\"Accuracy of Decision Tree on validate data is {clf.score(X_validate, y_validate)}\")"
   ]
  },
  {
   "cell_type": "code",
   "execution_count": null,
   "id": "b44f08d3",
   "metadata": {},
   "outputs": [],
   "source": [
    "def get_forest(X_train_rf, X_validate_rf, y_train_rf, y_validate_rf):\n",
    "    '''get random forest accuracy on train and validate data'''\n",
    "\n",
    "    # create model object and fit it to training data\n",
    "    rf = RandomForestClassifier(max_depth=3, random_state=123)\n",
    "    rf.fit(X_train_rf,y_train_rf)\n",
    "\n",
    "    # print result\n",
    "    print(f\"Accuracy of Random Forest on train is {rf.score(X_train_rf, y_train_rf)}\")\n",
    "    print(f\"Accuracy of Random Forest on validate is {rf.score(X_validate_rf, y_validate_rf)}\")\n"
   ]
  },
  {
   "cell_type": "code",
   "execution_count": null,
   "id": "4370bec1",
   "metadata": {},
   "outputs": [],
   "source": [
    "def get_reg(X_train_lr, X_validate_lr, y_train_lr, y_validate_lr):\n",
    "    '''get logistic regression accuracy on train and validate data'''\n",
    "\n",
    "    # create model object and fit it to the training data\n",
    "    logit = LogisticRegression(solver='liblinear')\n",
    "    logit.fit(X_train_lr, y_train_lr)\n",
    "\n",
    "    # print result\n",
    "    print(f\"Accuracy of Logistic Regression on train is {logit.score(X_train_lr, y_train_lr)}\")\n",
    "    print(f\"Accuracy of Logistic Regression on validate is {logit.score(X_validate_lr, y_validate_lr)}\")"
   ]
  }
 ],
 "metadata": {
  "kernelspec": {
   "display_name": "Python 3 (ipykernel)",
   "language": "python",
   "name": "python3"
  },
  "language_info": {
   "codemirror_mode": {
    "name": "ipython",
    "version": 3
   },
   "file_extension": ".py",
   "mimetype": "text/x-python",
   "name": "python",
   "nbconvert_exporter": "python",
   "pygments_lexer": "ipython3",
   "version": "3.9.13"
  }
 },
 "nbformat": 4,
 "nbformat_minor": 5
}
