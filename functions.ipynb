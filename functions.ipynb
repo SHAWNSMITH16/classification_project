{
 "cells": [
  {
   "cell_type": "code",
   "execution_count": null,
   "id": "934f2527",
   "metadata": {},
   "outputs": [],
   "source": [
    "def telco_churn(df):\n",
    "    '''This function takes in the telco df specifically and drops the \n",
    "    listed columns, creates dummy variables for the selected columns, and renames\n",
    "    the dummy variable columns to make them easier to read'''\n",
    "    \n",
    "    drop_cols = ['Unnamed: 0', 'payment_type_id', 'contract_type_id', 'customer_id', 'gender', \n",
    "                   'senior_citizen', 'partner', 'dependents', 'phone_service', 'multiple_lines',\n",
    "                   'streaming_tv', 'streaming_movies', 'contract_type', 'payment_type', 'internet_service_type_id']\n",
    "    \n",
    "    df.drop(columns = drop_cols, inplace = True)\n",
    "    \n",
    "    dummies = pd.get_dummies(df[['online_security','online_backup', 'device_protection', \n",
    "                        'tech_support', 'paperless_billing', 'churn', 'internet_service_type']], drop_first = True)\n",
    "\n",
    "    df = pd.concat([df, dummies], axis = 1)\n",
    "    \n",
    "    df.drop(columns = ['online_security','online_backup', 'device_protection', \n",
    "                        'tech_support', 'paperless_billing', 'churn', 'internet_service_type'], inplace = True)\n",
    "    \n",
    "    df.rename(columns = {'online_security_No internet service': 'online_security_NA', \n",
    "                         'online_backup_No internet service': 'online_backup_NA',\n",
    "                         'device_protection_No internet service': 'device_prot_NA',\n",
    "                         'tech_support_No internet service': 'tech_support_NA', \n",
    "                         'internet_service_type_Fiber optic': 'has_fiber',\n",
    "                         'internet_service_type_None': 'internet_service_type_NA'}, inplace = True)\n",
    "    \n",
    "    return df\n",
    "\n"
   ]
  },
  {
   "cell_type": "code",
   "execution_count": null,
   "id": "19badba7",
   "metadata": {},
   "outputs": [],
   "source": [
    "def cleanup(df):\n",
    "    '''The purpose of this function is to cleanup the total_charges column by first removing\n",
    "    any whitespace using the strip function, then identifying any non-values (not nulls) and \n",
    "    reassigning the dataframe to the same dataframe without the 11 rows that contain the non-values,\n",
    "    then changing the datatype from an object to a float to make it readable for the model, \n",
    "    and finally making all of the columns lower case for uniformity'''\n",
    "    \n",
    "    df.total_charges = df.total_charges.str.strip()\n",
    "    \n",
    "    df = df[df.total_charges != \"\"]\n",
    "    \n",
    "    df.total_charges = df.total_charges.astype(float)\n",
    "    \n",
    "    df.columns = df.columns.str.lower()\n",
    "    \n",
    "    return df"
   ]
  },
  {
   "cell_type": "code",
   "execution_count": null,
   "id": "b6ddbf6f",
   "metadata": {},
   "outputs": [],
   "source": []
  }
 ],
 "metadata": {
  "kernelspec": {
   "display_name": "Python 3 (ipykernel)",
   "language": "python",
   "name": "python3"
  },
  "language_info": {
   "codemirror_mode": {
    "name": "ipython",
    "version": 3
   },
   "file_extension": ".py",
   "mimetype": "text/x-python",
   "name": "python",
   "nbconvert_exporter": "python",
   "pygments_lexer": "ipython3",
   "version": "3.9.13"
  }
 },
 "nbformat": 4,
 "nbformat_minor": 5
}
